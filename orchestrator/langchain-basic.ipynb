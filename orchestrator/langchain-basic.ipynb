{
 "cells": [
  {
   "cell_type": "code",
   "execution_count": 1,
   "id": "a5fb1b87",
   "metadata": {},
   "outputs": [],
   "source": [
    "from langchain_openai import ChatOpenAI\n",
    "from langchain.schema import HumanMessage\n",
    "from config import config"
   ]
  },
  {
   "cell_type": "code",
   "execution_count": null,
   "id": "1ed688fe",
   "metadata": {},
   "outputs": [],
   "source": [
    "llm = ChatOpenAI(\n",
    "    base_url=config.OPENAI_ENDPOINT,\n",
    "    api_key=config.OPENAI_API_KEY,\n",
    "    temperature=0.7,\n",
    ")\n",
    "# response = llm.invoke(messages)\n",
    "# response.content"
   ]
  },
  {
   "cell_type": "code",
   "execution_count": 5,
   "id": "10a2e325",
   "metadata": {},
   "outputs": [
    {
     "name": "stdout",
     "output_type": "stream",
     "text": [
      "Certainly! What genre or type of book are you in the mood for? Here are a few recommendations across different genres:\n",
      "\n",
      "1. **Science Fiction**: \"Dune\" by Frank Herbert - A classic space opera that explores politics, religion, and ecology on a desert planet.\n",
      "\n",
      "2. **Mystery**: \"The Girl with the Dragon Tattoo\" by Stieg Larsson - A gripping mystery novel that combines crime fiction with elements of thriller and psychological suspense.\n",
      "\n",
      "3. **Fantasy**: \"The Name of the Wind\" by Patrick Rothfuss - A beautifully written fantasy novel that follows the story of a famous musician turned assassin.\n",
      "\n",
      "4. **Historical Fiction**: \"Wolf Hall\" by Hilary Mantel - A well-researched and highly acclaimed novel that tells the story of Thomas Cromwell during the reign of Henry VIII.\n",
      "\n",
      "5. **Romance**: \"Pride and Prejudice\" by Jane Austen - A classic romance novel that explores themes of marriage, social status, and personal growth.\n",
      "\n",
      "6. **Thriller**: \"Gone Girl\" by Gillian Flynn - A modern psychological thriller that keeps you guessing until the very end.\n",
      "\n",
      "7. **Self-Help/Non-Fiction**: \"Atomic Habits\" by James Clear - A practical guide to making tiny changes that lead to big results in your life.\n",
      "\n",
      "8. **Young Adult**: \"The Hunger Games\" by Suzanne Collins - A powerful and action-packed dystopian novel that has captivated readers worldwide.\n",
      "\n",
      "If you have a specific genre or theme in mind, feel free to let me know, and I can make a more tailored recommendation!"
     ]
    }
   ],
   "source": [
    "messages = [HumanMessage(content=\"Recommend a good book to read\")]\n",
    "for chunk in llm.stream(messages):\n",
    "    print(chunk.content, end=\"\", flush=True)"
   ]
  }
 ],
 "metadata": {
  "kernelspec": {
   "display_name": "Python 3",
   "language": "python",
   "name": "python3"
  },
  "language_info": {
   "codemirror_mode": {
    "name": "ipython",
    "version": 3
   },
   "file_extension": ".py",
   "mimetype": "text/x-python",
   "name": "python",
   "nbconvert_exporter": "python",
   "pygments_lexer": "ipython3",
   "version": "3.11.11"
  }
 },
 "nbformat": 4,
 "nbformat_minor": 5
}
